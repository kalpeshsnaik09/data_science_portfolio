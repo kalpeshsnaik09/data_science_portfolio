{
 "cells": [
  {
   "cell_type": "code",
   "execution_count": 1,
   "metadata": {},
   "outputs": [],
   "source": [
    "import pandas as pd\n",
    "import numpy as np\n",
    "import matplotlib.pyplot as plt\n",
    "import seaborn as sns"
   ]
  },
  {
   "cell_type": "code",
   "execution_count": 2,
   "metadata": {},
   "outputs": [
    {
     "data": {
      "text/html": [
       "<div>\n",
       "<style scoped>\n",
       "    .dataframe tbody tr th:only-of-type {\n",
       "        vertical-align: middle;\n",
       "    }\n",
       "\n",
       "    .dataframe tbody tr th {\n",
       "        vertical-align: top;\n",
       "    }\n",
       "\n",
       "    .dataframe thead th {\n",
       "        text-align: right;\n",
       "    }\n",
       "</style>\n",
       "<table border=\"1\" class=\"dataframe\">\n",
       "  <thead>\n",
       "    <tr style=\"text-align: right;\">\n",
       "      <th></th>\n",
       "      <th>Unnamed: 0</th>\n",
       "      <th>T</th>\n",
       "      <th>TM</th>\n",
       "      <th>Tm</th>\n",
       "      <th>H</th>\n",
       "      <th>VV</th>\n",
       "      <th>V</th>\n",
       "      <th>VM</th>\n",
       "      <th>PM2.5</th>\n",
       "    </tr>\n",
       "  </thead>\n",
       "  <tbody>\n",
       "    <tr>\n",
       "      <th>0</th>\n",
       "      <td>0</td>\n",
       "      <td>23.4</td>\n",
       "      <td>30.3</td>\n",
       "      <td>19.0</td>\n",
       "      <td>59.0</td>\n",
       "      <td>6.3</td>\n",
       "      <td>4.3</td>\n",
       "      <td>5.4</td>\n",
       "      <td>284.795833</td>\n",
       "    </tr>\n",
       "    <tr>\n",
       "      <th>1</th>\n",
       "      <td>1</td>\n",
       "      <td>22.4</td>\n",
       "      <td>30.3</td>\n",
       "      <td>16.9</td>\n",
       "      <td>57.0</td>\n",
       "      <td>6.9</td>\n",
       "      <td>3.3</td>\n",
       "      <td>7.6</td>\n",
       "      <td>219.720833</td>\n",
       "    </tr>\n",
       "    <tr>\n",
       "      <th>2</th>\n",
       "      <td>2</td>\n",
       "      <td>24.0</td>\n",
       "      <td>31.8</td>\n",
       "      <td>16.9</td>\n",
       "      <td>51.0</td>\n",
       "      <td>6.9</td>\n",
       "      <td>2.8</td>\n",
       "      <td>5.4</td>\n",
       "      <td>182.187500</td>\n",
       "    </tr>\n",
       "    <tr>\n",
       "      <th>3</th>\n",
       "      <td>3</td>\n",
       "      <td>NaN</td>\n",
       "      <td>NaN</td>\n",
       "      <td>NaN</td>\n",
       "      <td>NaN</td>\n",
       "      <td>NaN</td>\n",
       "      <td>NaN</td>\n",
       "      <td>NaN</td>\n",
       "      <td>115.287500</td>\n",
       "    </tr>\n",
       "    <tr>\n",
       "      <th>4</th>\n",
       "      <td>4</td>\n",
       "      <td>NaN</td>\n",
       "      <td>NaN</td>\n",
       "      <td>NaN</td>\n",
       "      <td>NaN</td>\n",
       "      <td>NaN</td>\n",
       "      <td>NaN</td>\n",
       "      <td>NaN</td>\n",
       "      <td>0.000000</td>\n",
       "    </tr>\n",
       "  </tbody>\n",
       "</table>\n",
       "</div>"
      ],
      "text/plain": [
       "   Unnamed: 0     T    TM    Tm     H   VV    V   VM       PM2.5\n",
       "0           0  23.4  30.3  19.0  59.0  6.3  4.3  5.4  284.795833\n",
       "1           1  22.4  30.3  16.9  57.0  6.9  3.3  7.6  219.720833\n",
       "2           2  24.0  31.8  16.9  51.0  6.9  2.8  5.4  182.187500\n",
       "3           3   NaN   NaN   NaN   NaN  NaN  NaN  NaN  115.287500\n",
       "4           4   NaN   NaN   NaN   NaN  NaN  NaN  NaN    0.000000"
      ]
     },
     "execution_count": 2,
     "metadata": {},
     "output_type": "execute_result"
    }
   ],
   "source": [
    "data=pd.read_csv(\"Data/main_data/air_quality_index.csv\")\n",
    "data.head()"
   ]
  },
  {
   "cell_type": "markdown",
   "metadata": {},
   "source": [
    "### Interpretation\n"
   ]
  },
  {
   "cell_type": "code",
   "execution_count": 3,
   "metadata": {},
   "outputs": [],
   "source": [
    "data.dropna(inplace=True)"
   ]
  },
  {
   "cell_type": "code",
   "execution_count": 4,
   "metadata": {},
   "outputs": [],
   "source": [
    "data.drop(columns='Unnamed: 0',inplace=True)"
   ]
  },
  {
   "cell_type": "code",
   "execution_count": 5,
   "metadata": {},
   "outputs": [],
   "source": [
    "data=data.apply(pd.to_numeric)"
   ]
  },
  {
   "cell_type": "code",
   "execution_count": 6,
   "metadata": {},
   "outputs": [
    {
     "data": {
      "text/plain": [
       "<matplotlib.axes._subplots.AxesSubplot at 0x7fe601efc350>"
      ]
     },
     "execution_count": 6,
     "metadata": {},
     "output_type": "execute_result"
    },
    {
     "data": {
      "image/png": "[encoded data removed]",
      "text/plain": [
       "<Figure size 432x288 with 2 Axes>"
      ]
     },
     "metadata": {
      "needs_background": "light"
     },
     "output_type": "display_data"
    }
   ],
   "source": [
    "sns.heatmap(data.corr())"
   ]
  },
  {
   "cell_type": "code",
   "execution_count": 7,
   "metadata": {},
   "outputs": [
    {
     "data": {
      "text/html": [
       "<div>\n",
       "<style scoped>\n",
       "    .dataframe tbody tr th:only-of-type {\n",
       "        vertical-align: middle;\n",
       "    }\n",
       "\n",
       "    .dataframe tbody tr th {\n",
       "        vertical-align: top;\n",
       "    }\n",
       "\n",
       "    .dataframe thead th {\n",
       "        text-align: right;\n",
       "    }\n",
       "</style>\n",
       "<table border=\"1\" class=\"dataframe\">\n",
       "  <thead>\n",
       "    <tr style=\"text-align: right;\">\n",
       "      <th></th>\n",
       "      <th>T</th>\n",
       "      <th>TM</th>\n",
       "      <th>Tm</th>\n",
       "      <th>H</th>\n",
       "      <th>VV</th>\n",
       "      <th>V</th>\n",
       "      <th>VM</th>\n",
       "      <th>PM2.5</th>\n",
       "    </tr>\n",
       "  </thead>\n",
       "  <tbody>\n",
       "    <tr>\n",
       "      <th>T</th>\n",
       "      <td>1.000000</td>\n",
       "      <td>0.869234</td>\n",
       "      <td>0.754790</td>\n",
       "      <td>-0.454895</td>\n",
       "      <td>0.323934</td>\n",
       "      <td>-0.112767</td>\n",
       "      <td>-0.065938</td>\n",
       "      <td>-0.346504</td>\n",
       "    </tr>\n",
       "    <tr>\n",
       "      <th>TM</th>\n",
       "      <td>0.869234</td>\n",
       "      <td>1.000000</td>\n",
       "      <td>0.479073</td>\n",
       "      <td>-0.636307</td>\n",
       "      <td>0.287509</td>\n",
       "      <td>-0.290293</td>\n",
       "      <td>-0.200805</td>\n",
       "      <td>-0.162755</td>\n",
       "    </tr>\n",
       "    <tr>\n",
       "      <th>Tm</th>\n",
       "      <td>0.754790</td>\n",
       "      <td>0.479073</td>\n",
       "      <td>1.000000</td>\n",
       "      <td>0.155554</td>\n",
       "      <td>0.137920</td>\n",
       "      <td>0.163184</td>\n",
       "      <td>0.141827</td>\n",
       "      <td>-0.513563</td>\n",
       "    </tr>\n",
       "    <tr>\n",
       "      <th>H</th>\n",
       "      <td>-0.454895</td>\n",
       "      <td>-0.636307</td>\n",
       "      <td>0.155554</td>\n",
       "      <td>1.000000</td>\n",
       "      <td>-0.274145</td>\n",
       "      <td>0.354845</td>\n",
       "      <td>0.261974</td>\n",
       "      <td>-0.218053</td>\n",
       "    </tr>\n",
       "    <tr>\n",
       "      <th>VV</th>\n",
       "      <td>0.323934</td>\n",
       "      <td>0.287509</td>\n",
       "      <td>0.137920</td>\n",
       "      <td>-0.274145</td>\n",
       "      <td>1.000000</td>\n",
       "      <td>0.051329</td>\n",
       "      <td>0.042797</td>\n",
       "      <td>-0.123436</td>\n",
       "    </tr>\n",
       "    <tr>\n",
       "      <th>V</th>\n",
       "      <td>-0.112767</td>\n",
       "      <td>-0.290293</td>\n",
       "      <td>0.163184</td>\n",
       "      <td>0.354845</td>\n",
       "      <td>0.051329</td>\n",
       "      <td>1.000000</td>\n",
       "      <td>0.710872</td>\n",
       "      <td>-0.333317</td>\n",
       "    </tr>\n",
       "    <tr>\n",
       "      <th>VM</th>\n",
       "      <td>-0.065938</td>\n",
       "      <td>-0.200805</td>\n",
       "      <td>0.141827</td>\n",
       "      <td>0.261974</td>\n",
       "      <td>0.042797</td>\n",
       "      <td>0.710872</td>\n",
       "      <td>1.000000</td>\n",
       "      <td>-0.268891</td>\n",
       "    </tr>\n",
       "    <tr>\n",
       "      <th>PM2.5</th>\n",
       "      <td>-0.346504</td>\n",
       "      <td>-0.162755</td>\n",
       "      <td>-0.513563</td>\n",
       "      <td>-0.218053</td>\n",
       "      <td>-0.123436</td>\n",
       "      <td>-0.333317</td>\n",
       "      <td>-0.268891</td>\n",
       "      <td>1.000000</td>\n",
       "    </tr>\n",
       "  </tbody>\n",
       "</table>\n",
       "</div>"
      ],
      "text/plain": [
       "              T        TM        Tm         H        VV         V        VM  \\\n",
       "T      1.000000  0.869234  0.754790 -0.454895  0.323934 -0.112767 -0.065938   \n",
       "TM     0.869234  1.000000  0.479073 -0.636307  0.287509 -0.290293 -0.200805   \n",
       "Tm     0.754790  0.479073  1.000000  0.155554  0.137920  0.163184  0.141827   \n",
       "H     -0.454895 -0.636307  0.155554  1.000000 -0.274145  0.354845  0.261974   \n",
       "VV     0.323934  0.287509  0.137920 -0.274145  1.000000  0.051329  0.042797   \n",
       "V     -0.112767 -0.290293  0.163184  0.354845  0.051329  1.000000  0.710872   \n",
       "VM    -0.065938 -0.200805  0.141827  0.261974  0.042797  0.710872  1.000000   \n",
       "PM2.5 -0.346504 -0.162755 -0.513563 -0.218053 -0.123436 -0.333317 -0.268891   \n",
       "\n",
       "          PM2.5  \n",
       "T     -0.346504  \n",
       "TM    -0.162755  \n",
       "Tm    -0.513563  \n",
       "H     -0.218053  \n",
       "VV    -0.123436  \n",
       "V     -0.333317  \n",
       "VM    -0.268891  \n",
       "PM2.5  1.000000  "
      ]
     },
     "execution_count": 7,
     "metadata": {},
     "output_type": "execute_result"
    }
   ],
   "source": [
    "data.corr()"
   ]
  },
  {
   "cell_type": "markdown",
   "metadata": {},
   "source": [
    "### high Correlation \n",
    "- drop TM,Tm,VM column"
   ]
  },
  {
   "cell_type": "code",
   "execution_count": 8,
   "metadata": {},
   "outputs": [],
   "source": [
    "data.drop(columns=['TM','Tm','VM'],inplace=True)"
   ]
  },
  {
   "cell_type": "code",
   "execution_count": null,
   "metadata": {},
   "outputs": [],
   "source": []
  },
  {
   "cell_type": "code",
   "execution_count": null,
   "metadata": {},
   "outputs": [],
   "source": []
  }
 ],
 "metadata": {
  "kernelspec": {
   "display_name": "air_quality_index",
   "language": "python",
   "name": "air_quality_index"
  },
  "language_info": {
   "codemirror_mode": {
    "name": "ipython",
    "version": 3
   },
   "file_extension": ".py",
   "mimetype": "text/x-python",
   "name": "python",
   "nbconvert_exporter": "python",
   "pygments_lexer": "ipython3",
   "version": "3.7.7"
  }
 },
 "nbformat": 4,
 "nbformat_minor": 2
}
