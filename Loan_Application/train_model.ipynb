{
 "cells": [
  {
   "cell_type": "code",
   "execution_count": 1,
   "metadata": {},
   "outputs": [],
   "source": [
    "import pandas as pd\n",
    "import numpy as np\n",
    "import matplotlib.pyplot as plt\n",
    "import seaborn as sns"
   ]
  },
  {
   "cell_type": "code",
   "execution_count": 2,
   "metadata": {},
   "outputs": [
    {
     "output_type": "execute_result",
     "data": {
      "text/plain": "  Application_ID Gender Married Dependents     Education Self_Employed  \\\n0       LP001002   Male      No          0      Graduate            No   \n1       LP001003   Male     Yes          1      Graduate            No   \n2       LP001005   Male     Yes          0      Graduate           Yes   \n3       LP001006   Male     Yes          0  Not Graduate            No   \n4       LP001008   Male      No          0      Graduate            No   \n\n   Credit_History Property_Area  Income Application_Status  \n0               1         Urban  medium                  Y  \n1               1         Rural  medium                  N  \n2               1         Urban     low                  Y  \n3               1         Urban     low                  Y  \n4               1         Urban  medium                  Y  ",
      "text/html": "<div>\n<style scoped>\n    .dataframe tbody tr th:only-of-type {\n        vertical-align: middle;\n    }\n\n    .dataframe tbody tr th {\n        vertical-align: top;\n    }\n\n    .dataframe thead th {\n        text-align: right;\n    }\n</style>\n<table border=\"1\" class=\"dataframe\">\n  <thead>\n    <tr style=\"text-align: right;\">\n      <th></th>\n      <th>Application_ID</th>\n      <th>Gender</th>\n      <th>Married</th>\n      <th>Dependents</th>\n      <th>Education</th>\n      <th>Self_Employed</th>\n      <th>Credit_History</th>\n      <th>Property_Area</th>\n      <th>Income</th>\n      <th>Application_Status</th>\n    </tr>\n  </thead>\n  <tbody>\n    <tr>\n      <th>0</th>\n      <td>LP001002</td>\n      <td>Male</td>\n      <td>No</td>\n      <td>0</td>\n      <td>Graduate</td>\n      <td>No</td>\n      <td>1</td>\n      <td>Urban</td>\n      <td>medium</td>\n      <td>Y</td>\n    </tr>\n    <tr>\n      <th>1</th>\n      <td>LP001003</td>\n      <td>Male</td>\n      <td>Yes</td>\n      <td>1</td>\n      <td>Graduate</td>\n      <td>No</td>\n      <td>1</td>\n      <td>Rural</td>\n      <td>medium</td>\n      <td>N</td>\n    </tr>\n    <tr>\n      <th>2</th>\n      <td>LP001005</td>\n      <td>Male</td>\n      <td>Yes</td>\n      <td>0</td>\n      <td>Graduate</td>\n      <td>Yes</td>\n      <td>1</td>\n      <td>Urban</td>\n      <td>low</td>\n      <td>Y</td>\n    </tr>\n    <tr>\n      <th>3</th>\n      <td>LP001006</td>\n      <td>Male</td>\n      <td>Yes</td>\n      <td>0</td>\n      <td>Not Graduate</td>\n      <td>No</td>\n      <td>1</td>\n      <td>Urban</td>\n      <td>low</td>\n      <td>Y</td>\n    </tr>\n    <tr>\n      <th>4</th>\n      <td>LP001008</td>\n      <td>Male</td>\n      <td>No</td>\n      <td>0</td>\n      <td>Graduate</td>\n      <td>No</td>\n      <td>1</td>\n      <td>Urban</td>\n      <td>medium</td>\n      <td>Y</td>\n    </tr>\n  </tbody>\n</table>\n</div>"
     },
     "metadata": {},
     "execution_count": 2
    }
   ],
   "source": [
    "data=pd.read_csv('Data/loan_application.csv')\n",
    "data.head()"
   ]
  },
  {
   "cell_type": "code",
   "execution_count": 3,
   "metadata": {},
   "outputs": [
    {
     "output_type": "execute_result",
     "data": {
      "text/plain": "Application_ID        511\nGender                  2\nMarried                 2\nDependents              4\nEducation               2\nSelf_Employed           2\nCredit_History          2\nProperty_Area           3\nIncome                  3\nApplication_Status      2\ndtype: int64"
     },
     "metadata": {},
     "execution_count": 3
    }
   ],
   "source": [
    "data.nunique()"
   ]
  },
  {
   "cell_type": "code",
   "execution_count": 4,
   "metadata": {},
   "outputs": [
    {
     "output_type": "execute_result",
     "data": {
      "text/plain": "(511, 10)"
     },
     "metadata": {},
     "execution_count": 4
    }
   ],
   "source": [
    "data.shape"
   ]
  },
  {
   "cell_type": "code",
   "execution_count": 5,
   "metadata": {},
   "outputs": [
    {
     "output_type": "execute_result",
     "data": {
      "text/plain": "Application_ID        0\nGender                0\nMarried               0\nDependents            0\nEducation             0\nSelf_Employed         0\nCredit_History        0\nProperty_Area         0\nIncome                0\nApplication_Status    0\ndtype: int64"
     },
     "metadata": {},
     "execution_count": 5
    }
   ],
   "source": [
    "data.isna().sum()"
   ]
  },
  {
   "cell_type": "code",
   "execution_count": 6,
   "metadata": {},
   "outputs": [],
   "source": [
    "data_df=data.drop(columns='Application_ID')"
   ]
  },
  {
   "cell_type": "code",
   "execution_count": 7,
   "metadata": {},
   "outputs": [
    {
     "output_type": "execute_result",
     "data": {
      "text/plain": "   Credit_History  Gender_Male  Married_Yes  Dependents_1  Dependents_2  \\\n0               1            1            0             0             0   \n1               1            1            1             1             0   \n2               1            1            1             0             0   \n3               1            1            1             0             0   \n4               1            1            0             0             0   \n\n   Dependents_3+  Education_Not Graduate  Self_Employed_Yes  \\\n0              0                       0                  0   \n1              0                       0                  0   \n2              0                       0                  1   \n3              0                       1                  0   \n4              0                       0                  0   \n\n   Property_Area_Semiurban  Property_Area_Urban  Income_low  Income_medium  \\\n0                        0                    1           0              1   \n1                        0                    0           0              1   \n2                        0                    1           1              0   \n3                        0                    1           1              0   \n4                        0                    1           0              1   \n\n   Application_Status_Y  \n0                     1  \n1                     0  \n2                     1  \n3                     1  \n4                     1  ",
      "text/html": "<div>\n<style scoped>\n    .dataframe tbody tr th:only-of-type {\n        vertical-align: middle;\n    }\n\n    .dataframe tbody tr th {\n        vertical-align: top;\n    }\n\n    .dataframe thead th {\n        text-align: right;\n    }\n</style>\n<table border=\"1\" class=\"dataframe\">\n  <thead>\n    <tr style=\"text-align: right;\">\n      <th></th>\n      <th>Credit_History</th>\n      <th>Gender_Male</th>\n      <th>Married_Yes</th>\n      <th>Dependents_1</th>\n      <th>Dependents_2</th>\n      <th>Dependents_3+</th>\n      <th>Education_Not Graduate</th>\n      <th>Self_Employed_Yes</th>\n      <th>Property_Area_Semiurban</th>\n      <th>Property_Area_Urban</th>\n      <th>Income_low</th>\n      <th>Income_medium</th>\n      <th>Application_Status_Y</th>\n    </tr>\n  </thead>\n  <tbody>\n    <tr>\n      <th>0</th>\n      <td>1</td>\n      <td>1</td>\n      <td>0</td>\n      <td>0</td>\n      <td>0</td>\n      <td>0</td>\n      <td>0</td>\n      <td>0</td>\n      <td>0</td>\n      <td>1</td>\n      <td>0</td>\n      <td>1</td>\n      <td>1</td>\n    </tr>\n    <tr>\n      <th>1</th>\n      <td>1</td>\n      <td>1</td>\n      <td>1</td>\n      <td>1</td>\n      <td>0</td>\n      <td>0</td>\n      <td>0</td>\n      <td>0</td>\n      <td>0</td>\n      <td>0</td>\n      <td>0</td>\n      <td>1</td>\n      <td>0</td>\n    </tr>\n    <tr>\n      <th>2</th>\n      <td>1</td>\n      <td>1</td>\n      <td>1</td>\n      <td>0</td>\n      <td>0</td>\n      <td>0</td>\n      <td>0</td>\n      <td>1</td>\n      <td>0</td>\n      <td>1</td>\n      <td>1</td>\n      <td>0</td>\n      <td>1</td>\n    </tr>\n    <tr>\n      <th>3</th>\n      <td>1</td>\n      <td>1</td>\n      <td>1</td>\n      <td>0</td>\n      <td>0</td>\n      <td>0</td>\n      <td>1</td>\n      <td>0</td>\n      <td>0</td>\n      <td>1</td>\n      <td>1</td>\n      <td>0</td>\n      <td>1</td>\n    </tr>\n    <tr>\n      <th>4</th>\n      <td>1</td>\n      <td>1</td>\n      <td>0</td>\n      <td>0</td>\n      <td>0</td>\n      <td>0</td>\n      <td>0</td>\n      <td>0</td>\n      <td>0</td>\n      <td>1</td>\n      <td>0</td>\n      <td>1</td>\n      <td>1</td>\n    </tr>\n  </tbody>\n</table>\n</div>"
     },
     "metadata": {},
     "execution_count": 7
    }
   ],
   "source": [
    "data_df=pd.get_dummies(data_df,drop_first=True)\n",
    "data_df.head()"
   ]
  },
  {
   "cell_type": "code",
   "execution_count": 8,
   "metadata": {},
   "outputs": [],
   "source": [
    "X=data_df.drop(columns='Application_Status_Y')\n",
    "y=data_df['Application_Status_Y']"
   ]
  },
  {
   "cell_type": "code",
   "execution_count": 9,
   "metadata": {},
   "outputs": [],
   "source": [
    "from sklearn.model_selection import train_test_split"
   ]
  },
  {
   "cell_type": "code",
   "execution_count": 10,
   "metadata": {},
   "outputs": [],
   "source": [
    "X_train,X_test,y_train,y_test=train_test_split(X,y,train_size=0.7,random_state=21)"
   ]
  },
  {
   "cell_type": "code",
   "execution_count": 11,
   "metadata": {},
   "outputs": [],
   "source": [
    "from sklearn.linear_model import LogisticRegression\n",
    "from sklearn.tree import DecisionTreeClassifier\n",
    "from sklearn.ensemble import RandomForestClassifier\n",
    "from sklearn.ensemble import GradientBoostingClassifier\n",
    "from sklearn.svm import SVC"
   ]
  },
  {
   "cell_type": "code",
   "execution_count": 12,
   "metadata": {},
   "outputs": [],
   "source": [
    "from sklearn.metrics import f1_score,precision_score,recall_score,accuracy_score,roc_auc_score\n",
    "from sklearn.metrics import roc_curve,precision_recall_curve"
   ]
  },
  {
   "cell_type": "code",
   "execution_count": 13,
   "metadata": {},
   "outputs": [],
   "source": [
    "lr=LogisticRegression()\n",
    "dt=DecisionTreeClassifier()\n",
    "rf=RandomForestClassifier()\n",
    "gb=GradientBoostingClassifier()\n",
    "svm=SVC()"
   ]
  },
  {
   "cell_type": "code",
   "execution_count": 14,
   "metadata": {},
   "outputs": [],
   "source": [
    "models={\n",
    "    lr:'LogisticRegression',\n",
    "    dt:'DecisionTreeClassifier',\n",
    "    rf:'RandomForestClassifier',\n",
    "    gb:'GradientBoostingClassifier',\n",
    "    svm:'SVM'\n",
    "}"
   ]
  },
  {
   "cell_type": "code",
   "execution_count": 15,
   "metadata": {},
   "outputs": [
    {
     "output_type": "execute_result",
     "data": {
      "text/plain": "                        Model  Precision    Recall  F1 Score  Accuracy  \\\n0          LogisticRegression   0.757812  0.960396  0.772727  0.847162   \n1      DecisionTreeClassifier   0.757282  0.772277  0.688312  0.764706   \n2      RandomForestClassifier   0.762712  0.891089  0.746753  0.821918   \n3  GradientBoostingClassifier   0.758333  0.900990  0.746753  0.823529   \n4                         SVM   0.759690  0.970297  0.779221  0.852174   \n\n    ROC_AUC  \n0  0.687745  \n1  0.650290  \n2  0.681394  \n3  0.676910  \n4  0.692696  ",
      "text/html": "<div>\n<style scoped>\n    .dataframe tbody tr th:only-of-type {\n        vertical-align: middle;\n    }\n\n    .dataframe tbody tr th {\n        vertical-align: top;\n    }\n\n    .dataframe thead th {\n        text-align: right;\n    }\n</style>\n<table border=\"1\" class=\"dataframe\">\n  <thead>\n    <tr style=\"text-align: right;\">\n      <th></th>\n      <th>Model</th>\n      <th>Precision</th>\n      <th>Recall</th>\n      <th>F1 Score</th>\n      <th>Accuracy</th>\n      <th>ROC_AUC</th>\n    </tr>\n  </thead>\n  <tbody>\n    <tr>\n      <th>0</th>\n      <td>LogisticRegression</td>\n      <td>0.757812</td>\n      <td>0.960396</td>\n      <td>0.772727</td>\n      <td>0.847162</td>\n      <td>0.687745</td>\n    </tr>\n    <tr>\n      <th>1</th>\n      <td>DecisionTreeClassifier</td>\n      <td>0.757282</td>\n      <td>0.772277</td>\n      <td>0.688312</td>\n      <td>0.764706</td>\n      <td>0.650290</td>\n    </tr>\n    <tr>\n      <th>2</th>\n      <td>RandomForestClassifier</td>\n      <td>0.762712</td>\n      <td>0.891089</td>\n      <td>0.746753</td>\n      <td>0.821918</td>\n      <td>0.681394</td>\n    </tr>\n    <tr>\n      <th>3</th>\n      <td>GradientBoostingClassifier</td>\n      <td>0.758333</td>\n      <td>0.900990</td>\n      <td>0.746753</td>\n      <td>0.823529</td>\n      <td>0.676910</td>\n    </tr>\n    <tr>\n      <th>4</th>\n      <td>SVM</td>\n      <td>0.759690</td>\n      <td>0.970297</td>\n      <td>0.779221</td>\n      <td>0.852174</td>\n      <td>0.692696</td>\n    </tr>\n  </tbody>\n</table>\n</div>"
     },
     "metadata": {},
     "execution_count": 15
    }
   ],
   "source": [
    "result=[]\n",
    "for i in models:\n",
    "    temp_res=dict()\n",
    "    i.fit(X_train,y_train)\n",
    "    y_pred=i.predict(X_test)\n",
    "    temp_res['Model']=models[i]\n",
    "    temp_res['Precision']=precision_score(y_test,y_pred)\n",
    "    temp_res['Recall']=recall_score(y_test,y_pred)\n",
    "    temp_res['F1 Score']=accuracy_score(y_test,y_pred)\n",
    "    temp_res['Accuracy']=f1_score(y_test,y_pred)\n",
    "    temp_res['ROC_AUC']=roc_auc_score(y_test,y_pred)\n",
    "    result.append(temp_res)\n",
    "pd.DataFrame(result)"
   ]
  },
  {
   "cell_type": "code",
   "execution_count": 16,
   "metadata": {},
   "outputs": [],
   "source": [
    "from sklearn.model_selection import GridSearchCV"
   ]
  },
  {
   "cell_type": "code",
   "execution_count": 17,
   "metadata": {},
   "outputs": [],
   "source": [
    "param_grid = {'C': [0.1, 1, 10, 100, 1000],  \n",
    "              'gamma': [1, 0.1, 0.01, 0.001, 0.0001], \n",
    "              'kernel': ['rbf']}"
   ]
  },
  {
   "cell_type": "code",
   "execution_count": 18,
   "metadata": {},
   "outputs": [],
   "source": [
    "grid = GridSearchCV(svm, param_grid, refit = True, verbose = 3)"
   ]
  },
  {
   "cell_type": "code",
   "execution_count": 19,
   "metadata": {
    "tags": []
   },
   "outputs": [
    {
     "output_type": "stream",
     "name": "stdout",
     "text": "Fitting 5 folds for each of 25 candidates, totalling 125 fits\n[CV] C=0.1, gamma=1, kernel=rbf ......................................\n[CV] .......... C=0.1, gamma=1, kernel=rbf, score=0.694, total=   0.0s\n[CV] C=0.1, gamma=1, kernel=rbf ......................................\n[CV] .......... C=0.1, gamma=1, kernel=rbf, score=0.681, total=   0.0s\n[CV] C=0.1, gamma=1, kernel=rbf ......................................\n[CV] .......... C=0.1, gamma=1, kernel=rbf, score=0.690, total=   0.0s\n[CV] C=0.1, gamma=1, kernel=rbf ......................................\n[CV] .......... C=0.1, gamma=1, kernel=rbf, score=0.690, total=   0.0s\n[CV] C=0.1, gamma=1, kernel=rbf ......................................\n[CV] .......... C=0.1, gamma=1, kernel=rbf, score=0.690, total=   0.0s\n[CV] C=0.1, gamma=0.1, kernel=rbf ....................................\n[CV] ........ C=0.1, gamma=0.1, kernel=rbf, score=0.694, total=   0.0s\n[CV] C=0.1, gamma=0.1, kernel=rbf ....................................\n[CV] ........ C=0.1, gamma=0.1, kernel=rbf, score=0.681, total=   0.0s\n[CV] C=0.1, gamma=0.1, kernel=rbf ....................................\n[CV] ........ C=0.1, gamma=0.1, kernel=rbf, score=0.690, total=   0.0s\n[CV] C=0.1, gamma=0.1, kernel=rbf ....................................\n[CV] ........ C=0.1, gamma=0.1, kernel=rbf, score=0.690, total=   0.0s\n[CV] C=0.1, gamma=0.1, kernel=rbf ....................................\n[CV] ........ C=0.1, gamma=0.1, kernel=rbf, score=0.690, total=   0.0s\n[CV] C=0.1, gamma=0.01, kernel=rbf ...................................\n[Parallel(n_jobs=1)]: Using backend SequentialBackend with 1 concurrent workers.\n[Parallel(n_jobs=1)]: Done   1 out of   1 | elapsed:    0.0s remaining:    0.0s\n[Parallel(n_jobs=1)]: Done   2 out of   2 | elapsed:    0.0s remaining:    0.0s\n[CV] ....... C=0.1, gamma=0.01, kernel=rbf, score=0.694, total=   0.0s\n[CV] C=0.1, gamma=0.01, kernel=rbf ...................................\n[CV] ....... C=0.1, gamma=0.01, kernel=rbf, score=0.681, total=   0.0s\n[CV] C=0.1, gamma=0.01, kernel=rbf ...................................\n[CV] ....... C=0.1, gamma=0.01, kernel=rbf, score=0.690, total=   0.0s\n[CV] C=0.1, gamma=0.01, kernel=rbf ...................................\n[CV] ....... C=0.1, gamma=0.01, kernel=rbf, score=0.690, total=   0.0s\n[CV] C=0.1, gamma=0.01, kernel=rbf ...................................\n[CV] ....... C=0.1, gamma=0.01, kernel=rbf, score=0.690, total=   0.0s\n[CV] C=0.1, gamma=0.001, kernel=rbf ..................................\n[CV] ...... C=0.1, gamma=0.001, kernel=rbf, score=0.694, total=   0.0s\n[CV] C=0.1, gamma=0.001, kernel=rbf ..................................\n[CV] ...... C=0.1, gamma=0.001, kernel=rbf, score=0.681, total=   0.0s\n[CV] C=0.1, gamma=0.001, kernel=rbf ..................................\n[CV] ...... C=0.1, gamma=0.001, kernel=rbf, score=0.690, total=   0.0s\n[CV] C=0.1, gamma=0.001, kernel=rbf ..................................\n[CV] ...... C=0.1, gamma=0.001, kernel=rbf, score=0.690, total=   0.0s\n[CV] C=0.1, gamma=0.001, kernel=rbf ..................................\n[CV] ...... C=0.1, gamma=0.001, kernel=rbf, score=0.690, total=   0.0s\n[CV] C=0.1, gamma=0.0001, kernel=rbf .................................\n[CV] ..... C=0.1, gamma=0.0001, kernel=rbf, score=0.694, total=   0.0s\n[CV] C=0.1, gamma=0.0001, kernel=rbf .................................\n[CV] ..... C=0.1, gamma=0.0001, kernel=rbf, score=0.681, total=   0.0s\n[CV] C=0.1, gamma=0.0001, kernel=rbf .................................\n[CV] ..... C=0.1, gamma=0.0001, kernel=rbf, score=0.690, total=   0.0s\n[CV] C=0.1, gamma=0.0001, kernel=rbf .................................\n[CV] ..... C=0.1, gamma=0.0001, kernel=rbf, score=0.690, total=   0.0s\n[CV] C=0.1, gamma=0.0001, kernel=rbf .................................\n[CV] ..... C=0.1, gamma=0.0001, kernel=rbf, score=0.690, total=   0.0s\n[CV] C=1, gamma=1, kernel=rbf ........................................\n[CV] ............ C=1, gamma=1, kernel=rbf, score=0.819, total=   0.0s\n[CV] C=1, gamma=1, kernel=rbf ........................................\n[CV] ............ C=1, gamma=1, kernel=rbf, score=0.764, total=   0.0s\n[CV] C=1, gamma=1, kernel=rbf ........................................\n[CV] ............ C=1, gamma=1, kernel=rbf, score=0.775, total=   0.0s\n[CV] C=1, gamma=1, kernel=rbf ........................................\n[CV] ............ C=1, gamma=1, kernel=rbf, score=0.704, total=   0.0s\n[CV] C=1, gamma=1, kernel=rbf ........................................\n[CV] ............ C=1, gamma=1, kernel=rbf, score=0.803, total=   0.0s\n[CV] C=1, gamma=0.1, kernel=rbf ......................................\n[CV] .......... C=1, gamma=0.1, kernel=rbf, score=0.847, total=   0.0s\n[CV] C=1, gamma=0.1, kernel=rbf ......................................\n[CV] .......... C=1, gamma=0.1, kernel=rbf, score=0.833, total=   0.0s\n[CV] C=1, gamma=0.1, kernel=rbf ......................................\n[CV] .......... C=1, gamma=0.1, kernel=rbf, score=0.831, total=   0.0s\n[CV] C=1, gamma=0.1, kernel=rbf ......................................\n[CV] .......... C=1, gamma=0.1, kernel=rbf, score=0.746, total=   0.0s\n[CV] C=1, gamma=0.1, kernel=rbf ......................................\n[CV] .......... C=1, gamma=0.1, kernel=rbf, score=0.845, total=   0.0s\n[CV] C=1, gamma=0.01, kernel=rbf .....................................\n[CV] ......... C=1, gamma=0.01, kernel=rbf, score=0.694, total=   0.0s\n[CV] C=1, gamma=0.01, kernel=rbf .....................................\n[CV] ......... C=1, gamma=0.01, kernel=rbf, score=0.681, total=   0.0s\n[CV] C=1, gamma=0.01, kernel=rbf .....................................\n[CV] ......... C=1, gamma=0.01, kernel=rbf, score=0.690, total=   0.0s\n[CV] C=1, gamma=0.01, kernel=rbf .....................................\n[CV] ......... C=1, gamma=0.01, kernel=rbf, score=0.690, total=   0.0s\n[CV] C=1, gamma=0.01, kernel=rbf .....................................\n[CV] ......... C=1, gamma=0.01, kernel=rbf, score=0.690, total=   0.0s\n[CV] C=1, gamma=0.001, kernel=rbf ....................................\n[CV] ........ C=1, gamma=0.001, kernel=rbf, score=0.694, total=   0.0s\n[CV] C=1, gamma=0.001, kernel=rbf ....................................\n[CV] ........ C=1, gamma=0.001, kernel=rbf, score=0.681, total=   0.0s\n[CV] C=1, gamma=0.001, kernel=rbf ....................................\n[CV] ........ C=1, gamma=0.001, kernel=rbf, score=0.690, total=   0.0s\n[CV] C=1, gamma=0.001, kernel=rbf ....................................\n[CV] ........ C=1, gamma=0.001, kernel=rbf, score=0.690, total=   0.0s\n[CV] C=1, gamma=0.001, kernel=rbf ....................................\n[CV] ........ C=1, gamma=0.001, kernel=rbf, score=0.690, total=   0.0s\n[CV] C=1, gamma=0.0001, kernel=rbf ...................................\n[CV] ....... C=1, gamma=0.0001, kernel=rbf, score=0.694, total=   0.0s\n[CV] C=1, gamma=0.0001, kernel=rbf ...................................\n[CV] ....... C=1, gamma=0.0001, kernel=rbf, score=0.681, total=   0.0s\n[CV] C=1, gamma=0.0001, kernel=rbf ...................................\n[CV] ....... C=1, gamma=0.0001, kernel=rbf, score=0.690, total=   0.0s\n[CV] C=1, gamma=0.0001, kernel=rbf ...................................\n[CV] ....... C=1, gamma=0.0001, kernel=rbf, score=0.690, total=   0.0s\n[CV] C=1, gamma=0.0001, kernel=rbf ...................................\n[CV] ....... C=1, gamma=0.0001, kernel=rbf, score=0.690, total=   0.0s\n[CV] C=10, gamma=1, kernel=rbf .......................................\n[CV] ........... C=10, gamma=1, kernel=rbf, score=0.764, total=   0.0s\n[CV] C=10, gamma=1, kernel=rbf .......................................\n[CV] ........... C=10, gamma=1, kernel=rbf, score=0.736, total=   0.0s\n[CV] C=10, gamma=1, kernel=rbf .......................................\n[CV] ........... C=10, gamma=1, kernel=rbf, score=0.718, total=   0.0s\n[CV] C=10, gamma=1, kernel=rbf .......................................\n[CV] ........... C=10, gamma=1, kernel=rbf, score=0.732, total=   0.0s\n[CV] C=10, gamma=1, kernel=rbf .......................................\n[CV] ........... C=10, gamma=1, kernel=rbf, score=0.761, total=   0.0s\n[CV] C=10, gamma=0.1, kernel=rbf .....................................\n[CV] ......... C=10, gamma=0.1, kernel=rbf, score=0.847, total=   0.0s\n[CV] C=10, gamma=0.1, kernel=rbf .....................................\n[CV] ......... C=10, gamma=0.1, kernel=rbf, score=0.833, total=   0.0s\n[CV] C=10, gamma=0.1, kernel=rbf .....................................\n[CV] ......... C=10, gamma=0.1, kernel=rbf, score=0.831, total=   0.0s\n[CV] C=10, gamma=0.1, kernel=rbf .....................................\n[CV] ......... C=10, gamma=0.1, kernel=rbf, score=0.746, total=   0.0s\n[CV] C=10, gamma=0.1, kernel=rbf .....................................\n[CV] ......... C=10, gamma=0.1, kernel=rbf, score=0.845, total=   0.0s\n[CV] C=10, gamma=0.01, kernel=rbf ....................................\n[CV] ........ C=10, gamma=0.01, kernel=rbf, score=0.847, total=   0.0s\n[CV] C=10, gamma=0.01, kernel=rbf ....................................\n[CV] ........ C=10, gamma=0.01, kernel=rbf, score=0.833, total=   0.0s\n[CV] C=10, gamma=0.01, kernel=rbf ....................................\n[CV] ........ C=10, gamma=0.01, kernel=rbf, score=0.831, total=   0.0s\n[CV] C=10, gamma=0.01, kernel=rbf ....................................\n[CV] ........ C=10, gamma=0.01, kernel=rbf, score=0.746, total=   0.0s\n[CV] C=10, gamma=0.01, kernel=rbf ....................................\n[CV] ........ C=10, gamma=0.01, kernel=rbf, score=0.845, total=   0.0s\n[CV] C=10, gamma=0.001, kernel=rbf ...................................\n[CV] ....... C=10, gamma=0.001, kernel=rbf, score=0.694, total=   0.0s\n[CV] C=10, gamma=0.001, kernel=rbf ...................................\n[CV] ....... C=10, gamma=0.001, kernel=rbf, score=0.681, total=   0.0s\n[CV] C=10, gamma=0.001, kernel=rbf ...................................\n[CV] ....... C=10, gamma=0.001, kernel=rbf, score=0.690, total=   0.0s\n[CV] C=10, gamma=0.001, kernel=rbf ...................................\n[CV] ....... C=10, gamma=0.001, kernel=rbf, score=0.690, total=   0.0s\n[CV] C=10, gamma=0.001, kernel=rbf ...................................\n[CV] ....... C=10, gamma=0.001, kernel=rbf, score=0.690, total=   0.0s\n[CV] C=10, gamma=0.0001, kernel=rbf ..................................\n[CV] ...... C=10, gamma=0.0001, kernel=rbf, score=0.694, total=   0.0s\n[CV] C=10, gamma=0.0001, kernel=rbf ..................................\n[CV] ...... C=10, gamma=0.0001, kernel=rbf, score=0.681, total=   0.0s\n[CV] C=10, gamma=0.0001, kernel=rbf ..................................\n[CV] ...... C=10, gamma=0.0001, kernel=rbf, score=0.690, total=   0.0s\n[CV] C=10, gamma=0.0001, kernel=rbf ..................................\n[CV] ...... C=10, gamma=0.0001, kernel=rbf, score=0.690, total=   0.0s\n[CV] C=10, gamma=0.0001, kernel=rbf ..................................\n[CV] ...... C=10, gamma=0.0001, kernel=rbf, score=0.690, total=   0.0s\n[CV] C=100, gamma=1, kernel=rbf ......................................\n[CV] .......... C=100, gamma=1, kernel=rbf, score=0.764, total=   0.0s\n[CV] C=100, gamma=1, kernel=rbf ......................................\n[CV] .......... C=100, gamma=1, kernel=rbf, score=0.736, total=   0.0s\n[CV] C=100, gamma=1, kernel=rbf ......................................\n[CV] .......... C=100, gamma=1, kernel=rbf, score=0.718, total=   0.0s\n[CV] C=100, gamma=1, kernel=rbf ......................................\n[CV] .......... C=100, gamma=1, kernel=rbf, score=0.732, total=   0.0s\n[CV] C=100, gamma=1, kernel=rbf ......................................\n[CV] .......... C=100, gamma=1, kernel=rbf, score=0.761, total=   0.0s\n[CV] C=100, gamma=0.1, kernel=rbf ....................................\n[CV] ........ C=100, gamma=0.1, kernel=rbf, score=0.792, total=   0.0s\n[CV] C=100, gamma=0.1, kernel=rbf ....................................\n[CV] ........ C=100, gamma=0.1, kernel=rbf, score=0.819, total=   0.0s\n[CV] C=100, gamma=0.1, kernel=rbf ....................................\n[CV] ........ C=100, gamma=0.1, kernel=rbf, score=0.761, total=   0.0s\n[CV] C=100, gamma=0.1, kernel=rbf ....................................\n[CV] ........ C=100, gamma=0.1, kernel=rbf, score=0.746, total=   0.0s\n[CV] C=100, gamma=0.1, kernel=rbf ....................................\n[CV] ........ C=100, gamma=0.1, kernel=rbf, score=0.761, total=   0.0s\n[CV] C=100, gamma=0.01, kernel=rbf ...................................\n[CV] ....... C=100, gamma=0.01, kernel=rbf, score=0.847, total=   0.0s\n[CV] C=100, gamma=0.01, kernel=rbf ...................................\n[CV] ....... C=100, gamma=0.01, kernel=rbf, score=0.833, total=   0.0s\n[CV] C=100, gamma=0.01, kernel=rbf ...................................\n[CV] ....... C=100, gamma=0.01, kernel=rbf, score=0.831, total=   0.0s\n[CV] C=100, gamma=0.01, kernel=rbf ...................................\n[CV] ....... C=100, gamma=0.01, kernel=rbf, score=0.746, total=   0.0s\n[CV] C=100, gamma=0.01, kernel=rbf ...................................\n[CV] ....... C=100, gamma=0.01, kernel=rbf, score=0.845, total=   0.0s\n[CV] C=100, gamma=0.001, kernel=rbf ..................................\n[CV] ...... C=100, gamma=0.001, kernel=rbf, score=0.847, total=   0.0s\n[CV] C=100, gamma=0.001, kernel=rbf ..................................\n[CV] ...... C=100, gamma=0.001, kernel=rbf, score=0.833, total=   0.0s\n[CV] C=100, gamma=0.001, kernel=rbf ..................................\n[CV] ...... C=100, gamma=0.001, kernel=rbf, score=0.831, total=   0.0s\n[CV] C=100, gamma=0.001, kernel=rbf ..................................\n[CV] ...... C=100, gamma=0.001, kernel=rbf, score=0.746, total=   0.0s\n[CV] C=100, gamma=0.001, kernel=rbf ..................................\n[CV] ...... C=100, gamma=0.001, kernel=rbf, score=0.845, total=   0.0s\n[CV] C=100, gamma=0.0001, kernel=rbf .................................\n[CV] ..... C=100, gamma=0.0001, kernel=rbf, score=0.694, total=   0.0s\n[CV] C=100, gamma=0.0001, kernel=rbf .................................\n[CV] ..... C=100, gamma=0.0001, kernel=rbf, score=0.681, total=   0.0s\n[CV] C=100, gamma=0.0001, kernel=rbf .................................\n[CV] ..... C=100, gamma=0.0001, kernel=rbf, score=0.690, total=   0.0s\n[CV] C=100, gamma=0.0001, kernel=rbf .................................\n[CV] ..... C=100, gamma=0.0001, kernel=rbf, score=0.690, total=   0.0s\n[CV] C=100, gamma=0.0001, kernel=rbf .................................\n[CV] ..... C=100, gamma=0.0001, kernel=rbf, score=0.690, total=   0.0s\n[CV] C=1000, gamma=1, kernel=rbf .....................................\n[CV] ......... C=1000, gamma=1, kernel=rbf, score=0.764, total=   0.0s\n[CV] C=1000, gamma=1, kernel=rbf .....................................\n[CV] ......... C=1000, gamma=1, kernel=rbf, score=0.736, total=   0.0s\n[CV] C=1000, gamma=1, kernel=rbf .....................................\n[CV] ......... C=1000, gamma=1, kernel=rbf, score=0.718, total=   0.0s\n[CV] C=1000, gamma=1, kernel=rbf .....................................\n[CV] ......... C=1000, gamma=1, kernel=rbf, score=0.732, total=   0.0s\n[CV] C=1000, gamma=1, kernel=rbf .....................................\n[CV] ......... C=1000, gamma=1, kernel=rbf, score=0.761, total=   0.0s\n[CV] C=1000, gamma=0.1, kernel=rbf ...................................\n[CV] ....... C=1000, gamma=0.1, kernel=rbf, score=0.722, total=   0.0s\n[CV] C=1000, gamma=0.1, kernel=rbf ...................................\n[CV] ....... C=1000, gamma=0.1, kernel=rbf, score=0.764, total=   0.0s\n[CV] C=1000, gamma=0.1, kernel=rbf ...................................\n[CV] ....... C=1000, gamma=0.1, kernel=rbf, score=0.704, total=   0.0s\n[CV] C=1000, gamma=0.1, kernel=rbf ...................................\n[CV] ....... C=1000, gamma=0.1, kernel=rbf, score=0.761, total=   0.0s\n[CV] C=1000, gamma=0.1, kernel=rbf ...................................\n[CV] ....... C=1000, gamma=0.1, kernel=rbf, score=0.732, total=   0.0s\n[CV] C=1000, gamma=0.01, kernel=rbf ..................................\n[CV] ...... C=1000, gamma=0.01, kernel=rbf, score=0.847, total=   0.0s\n[CV] C=1000, gamma=0.01, kernel=rbf ..................................\n[CV] ...... C=1000, gamma=0.01, kernel=rbf, score=0.847, total=   0.0s\n[CV] C=1000, gamma=0.01, kernel=rbf ..................................\n[CV] ...... C=1000, gamma=0.01, kernel=rbf, score=0.831, total=   0.0s\n[CV] C=1000, gamma=0.01, kernel=rbf ..................................\n[CV] ...... C=1000, gamma=0.01, kernel=rbf, score=0.746, total=   0.0s\n[CV] C=1000, gamma=0.01, kernel=rbf ..................................\n[CV] ...... C=1000, gamma=0.01, kernel=rbf, score=0.831, total=   0.0s\n[CV] C=1000, gamma=0.001, kernel=rbf .................................\n[CV] ..... C=1000, gamma=0.001, kernel=rbf, score=0.847, total=   0.0s\n[CV] C=1000, gamma=0.001, kernel=rbf .................................\n[CV] ..... C=1000, gamma=0.001, kernel=rbf, score=0.833, total=   0.0s\n[CV] C=1000, gamma=0.001, kernel=rbf .................................\n[CV] ..... C=1000, gamma=0.001, kernel=rbf, score=0.831, total=   0.0s\n[CV] C=1000, gamma=0.001, kernel=rbf .................................\n[CV] ..... C=1000, gamma=0.001, kernel=rbf, score=0.746, total=   0.0s\n[CV] C=1000, gamma=0.001, kernel=rbf .................................\n[CV] ..... C=1000, gamma=0.001, kernel=rbf, score=0.845, total=   0.0s\n[CV] C=1000, gamma=0.0001, kernel=rbf ................................\n[CV] .... C=1000, gamma=0.0001, kernel=rbf, score=0.847, total=   0.0s\n[CV] C=1000, gamma=0.0001, kernel=rbf ................................\n[CV] .... C=1000, gamma=0.0001, kernel=rbf, score=0.833, total=   0.0s\n[CV] C=1000, gamma=0.0001, kernel=rbf ................................\n[CV] .... C=1000, gamma=0.0001, kernel=rbf, score=0.831, total=   0.0s\n[CV] C=1000, gamma=0.0001, kernel=rbf ................................\n[CV] .... C=1000, gamma=0.0001, kernel=rbf, score=0.746, total=   0.0s\n[CV] C=1000, gamma=0.0001, kernel=rbf ................................\n[CV] .... C=1000, gamma=0.0001, kernel=rbf, score=0.845, total=   0.0s\n[Parallel(n_jobs=1)]: Done 125 out of 125 | elapsed:    2.1s finished\n"
    },
    {
     "output_type": "execute_result",
     "data": {
      "text/plain": "GridSearchCV(cv=None, error_score=nan,\n             estimator=SVC(C=1.0, break_ties=False, cache_size=200,\n                           class_weight=None, coef0=0.0,\n                           decision_function_shape='ovr', degree=3,\n                           gamma='scale', kernel='rbf', max_iter=-1,\n                           probability=False, random_state=None, shrinking=True,\n                           tol=0.001, verbose=False),\n             iid='deprecated', n_jobs=None,\n             param_grid={'C': [0.1, 1, 10, 100, 1000],\n                         'gamma': [1, 0.1, 0.01, 0.001, 0.0001],\n                         'kernel': ['rbf']},\n             pre_dispatch='2*n_jobs', refit=True, return_train_score=False,\n             scoring=None, verbose=3)"
     },
     "metadata": {},
     "execution_count": 19
    }
   ],
   "source": [
    "grid.fit(X_train, y_train)"
   ]
  },
  {
   "cell_type": "code",
   "execution_count": 20,
   "metadata": {},
   "outputs": [
    {
     "output_type": "execute_result",
     "data": {
      "text/plain": "{'C': 1, 'gamma': 0.1, 'kernel': 'rbf'}"
     },
     "metadata": {},
     "execution_count": 20
    }
   ],
   "source": [
    "grid.best_params_"
   ]
  },
  {
   "cell_type": "code",
   "execution_count": 21,
   "metadata": {},
   "outputs": [
    {
     "output_type": "execute_result",
     "data": {
      "text/plain": "SVC(C=1, break_ties=False, cache_size=200, class_weight=None, coef0=0.0,\n    decision_function_shape='ovr', degree=3, gamma=0.1, kernel='rbf',\n    max_iter=-1, probability=False, random_state=None, shrinking=True,\n    tol=0.001, verbose=False)"
     },
     "metadata": {},
     "execution_count": 21
    }
   ],
   "source": [
    "grid.best_estimator_"
   ]
  },
  {
   "cell_type": "code",
   "execution_count": 22,
   "metadata": {},
   "outputs": [],
   "source": [
    "svm=SVC(C=1, break_ties=False, cache_size=200, class_weight=None, coef0=0.0,\n",
    "    decision_function_shape='ovr', degree=3, gamma=0.1, kernel='rbf',\n",
    "    max_iter=-1, probability=False, random_state=None, shrinking=True,\n",
    "    tol=0.001, verbose=False)"
   ]
  },
  {
   "cell_type": "code",
   "execution_count": 23,
   "metadata": {},
   "outputs": [
    {
     "output_type": "execute_result",
     "data": {
      "text/plain": "SVC(C=1, break_ties=False, cache_size=200, class_weight=None, coef0=0.0,\n    decision_function_shape='ovr', degree=3, gamma=0.1, kernel='rbf',\n    max_iter=-1, probability=False, random_state=None, shrinking=True,\n    tol=0.001, verbose=False)"
     },
     "metadata": {},
     "execution_count": 23
    }
   ],
   "source": [
    "svm.fit(X_train,y_train)"
   ]
  },
  {
   "cell_type": "code",
   "execution_count": 24,
   "metadata": {},
   "outputs": [],
   "source": [
    "y_pred=svm.predict(X_test)"
   ]
  },
  {
   "cell_type": "code",
   "execution_count": 25,
   "metadata": {},
   "outputs": [
    {
     "output_type": "execute_result",
     "data": {
      "text/plain": "  Model  Precision    Recall  F1 Score  Accuracy   ROC_AUC\n0   SVM    0.75969  0.970297  0.779221  0.852174  0.692696",
      "text/html": "<div>\n<style scoped>\n    .dataframe tbody tr th:only-of-type {\n        vertical-align: middle;\n    }\n\n    .dataframe tbody tr th {\n        vertical-align: top;\n    }\n\n    .dataframe thead th {\n        text-align: right;\n    }\n</style>\n<table border=\"1\" class=\"dataframe\">\n  <thead>\n    <tr style=\"text-align: right;\">\n      <th></th>\n      <th>Model</th>\n      <th>Precision</th>\n      <th>Recall</th>\n      <th>F1 Score</th>\n      <th>Accuracy</th>\n      <th>ROC_AUC</th>\n    </tr>\n  </thead>\n  <tbody>\n    <tr>\n      <th>0</th>\n      <td>SVM</td>\n      <td>0.75969</td>\n      <td>0.970297</td>\n      <td>0.779221</td>\n      <td>0.852174</td>\n      <td>0.692696</td>\n    </tr>\n  </tbody>\n</table>\n</div>"
     },
     "metadata": {},
     "execution_count": 25
    }
   ],
   "source": [
    "result=[]\n",
    "temp_res=dict()\n",
    "temp_res['Model']='SVM'\n",
    "temp_res['Precision']=precision_score(y_test,y_pred)\n",
    "temp_res['Recall']=recall_score(y_test,y_pred)\n",
    "temp_res['F1 Score']=accuracy_score(y_test,y_pred)\n",
    "temp_res['Accuracy']=f1_score(y_test,y_pred)\n",
    "temp_res['ROC_AUC']=roc_auc_score(y_test,y_pred)\n",
    "result.append(temp_res)\n",
    "pd.DataFrame(result)"
   ]
  },
  {
   "cell_type": "markdown",
   "metadata": {},
   "source": [
    "### ROC Curve"
   ]
  },
  {
   "cell_type": "code",
   "execution_count": 26,
   "metadata": {},
   "outputs": [],
   "source": [
    "ns_probs = [0 for _ in range(len(y_test))]"
   ]
  },
  {
   "cell_type": "code",
   "execution_count": 27,
   "metadata": {},
   "outputs": [],
   "source": [
    "ns_fpr, ns_tpr, _ = roc_curve(y_test, ns_probs)\n",
    "lr_fpr, lr_tpr, _ = roc_curve(y_test, y_pred)"
   ]
  },
  {
   "cell_type": "code",
   "execution_count": 28,
   "metadata": {},
   "outputs": [
    {
     "output_type": "display_data",
     "data": {
      "text/plain": "<Figure size 432x288 with 1 Axes>",
      "image/svg+xml": "<?xml version=\"1.0\" encoding=\"utf-8\" standalone=\"no\"?>\n<!DOCTYPE svg PUBLIC \"-//W3C//DTD SVG 1.1//EN\"\n  \"http://www.w3.org/Graphics/SVG/1.1/DTD/svg11.dtd\">\n<!-- Created with matplotlib (https://matplotlib.org/) -->\n<svg height=\"262.19625pt\" version=\"1.1\" viewBox=\"0 0 385.78125 262.19625\" width=\"385.78125pt\" xmlns=\"http://www.w3.org/2000/svg\" xmlns:xlink=\"http://www.w3.org/1999/xlink\">\n <defs>\n  <style type=\"text/css\">\n*{stroke-linecap:butt;stroke-linejoin:round;}\n  </style>\n </defs>\n <g id=\"figure_1\">\n  <g id=\"patch_1\">\n   <path d=\"M 0 262.19625 \nL 385.78125 262.19625 \nL 385.78125 0 \nL 0 0 \nz\n\" style=\"fill:none;\"/>\n  </g>\n  <g id=\"axes_1\">\n   <g id=\"patch_2\">\n    <path d=\"M 43.78125 224.64 \nL 378.58125 224.64 \nL 378.58125 7.2 \nL 43.78125 7.2 \nz\n\" style=\"fill:#ffffff;\"/>\n   </g>\n   <g id=\"matplotlib.axis_1\">\n    <g id=\"xtick_1\">\n     <g id=\"line2d_1\">\n      <defs>\n       <path d=\"M 0 0 \nL 0 3.5 \n\" id=\"m8b34d27718\" style=\"stroke:#000000;stroke-width:0.8;\"/>\n      </defs>\n      <g>\n       <use style=\"stroke:#000000;stroke-width:0.8;\" x=\"58.999432\" xlink:href=\"#m8b34d27718\" y=\"224.64\"/>\n      </g>\n     </g>\n     <g id=\"text_1\">\n      <!-- 0.0 -->\n      <defs>\n       <path d=\"M 31.78125 66.40625 \nQ 24.171875 66.40625 20.328125 58.90625 \nQ 16.5 51.421875 16.5 36.375 \nQ 16.5 21.390625 20.328125 13.890625 \nQ 24.171875 6.390625 31.78125 6.390625 \nQ 39.453125 6.390625 43.28125 13.890625 \nQ 47.125 21.390625 47.125 36.375 \nQ 47.125 51.421875 43.28125 58.90625 \nQ 39.453125 66.40625 31.78125 66.40625 \nz\nM 31.78125 74.21875 \nQ 44.046875 74.21875 50.515625 64.515625 \nQ 56.984375 54.828125 56.984375 36.375 \nQ 56.984375 17.96875 50.515625 8.265625 \nQ 44.046875 -1.421875 31.78125 -1.421875 \nQ 19.53125 -1.421875 13.0625 8.265625 \nQ 6.59375 17.96875 6.59375 36.375 \nQ 6.59375 54.828125 13.0625 64.515625 \nQ 19.53125 74.21875 31.78125 74.21875 \nz\n\" id=\"DejaVuSans-48\"/>\n       <path d=\"M 10.6875 12.40625 \nL 21 12.40625 \nL 21 0 \nL 10.6875 0 \nz\n\" id=\"DejaVuSans-46\"/>\n      </defs>\n      <g transform=\"translate(51.047869 239.238437)scale(0.1 -0.1)\">\n       <use xlink:href=\"#DejaVuSans-48\"/>\n       <use x=\"63.623047\" xlink:href=\"#DejaVuSans-46\"/>\n       <use x=\"95.410156\" xlink:href=\"#DejaVuSans-48\"/>\n      </g>\n     </g>\n    </g>\n    <g id=\"xtick_2\">\n     <g id=\"line2d_2\">\n      <g>\n       <use style=\"stroke:#000000;stroke-width:0.8;\" x=\"119.872159\" xlink:href=\"#m8b34d27718\" y=\"224.64\"/>\n      </g>\n     </g>\n     <g id=\"text_2\">\n      <!-- 0.2 -->\n      <defs>\n       <path d=\"M 19.1875 8.296875 \nL 53.609375 8.296875 \nL 53.609375 0 \nL 7.328125 0 \nL 7.328125 8.296875 \nQ 12.9375 14.109375 22.625 23.890625 \nQ 32.328125 33.6875 34.8125 36.53125 \nQ 39.546875 41.84375 41.421875 45.53125 \nQ 43.3125 49.21875 43.3125 52.78125 \nQ 43.3125 58.59375 39.234375 62.25 \nQ 35.15625 65.921875 28.609375 65.921875 \nQ 23.96875 65.921875 18.8125 64.3125 \nQ 13.671875 62.703125 7.8125 59.421875 \nL 7.8125 69.390625 \nQ 13.765625 71.78125 18.9375 73 \nQ 24.125 74.21875 28.421875 74.21875 \nQ 39.75 74.21875 46.484375 68.546875 \nQ 53.21875 62.890625 53.21875 53.421875 \nQ 53.21875 48.921875 51.53125 44.890625 \nQ 49.859375 40.875 45.40625 35.40625 \nQ 44.1875 33.984375 37.640625 27.21875 \nQ 31.109375 20.453125 19.1875 8.296875 \nz\n\" id=\"DejaVuSans-50\"/>\n      </defs>\n      <g transform=\"translate(111.920597 239.238437)scale(0.1 -0.1)\">\n       <use xlink:href=\"#DejaVuSans-48\"/>\n       <use x=\"63.623047\" xlink:href=\"#DejaVuSans-46\"/>\n       <use x=\"95.410156\" xlink:href=\"#DejaVuSans-50\"/>\n      </g>\n     </g>\n    </g>\n    <g id=\"xtick_3\">\n     <g id=\"line2d_3\">\n      <g>\n       <use style=\"stroke:#000000;stroke-width:0.8;\" x=\"180.744886\" xlink:href=\"#m8b34d27718\" y=\"224.64\"/>\n      </g>\n     </g>\n     <g id=\"text_3\">\n      <!-- 0.4 -->\n      <defs>\n       <path d=\"M 37.796875 64.3125 \nL 12.890625 25.390625 \nL 37.796875 25.390625 \nz\nM 35.203125 72.90625 \nL 47.609375 72.90625 \nL 47.609375 25.390625 \nL 58.015625 25.390625 \nL 58.015625 17.1875 \nL 47.609375 17.1875 \nL 47.609375 0 \nL 37.796875 0 \nL 37.796875 17.1875 \nL 4.890625 17.1875 \nL 4.890625 26.703125 \nz\n\" id=\"DejaVuSans-52\"/>\n      </defs>\n      <g transform=\"translate(172.793324 239.238437)scale(0.1 -0.1)\">\n       <use xlink:href=\"#DejaVuSans-48\"/>\n       <use x=\"63.623047\" xlink:href=\"#DejaVuSans-46\"/>\n       <use x=\"95.410156\" xlink:href=\"#DejaVuSans-52\"/>\n      </g>\n     </g>\n    </g>\n    <g id=\"xtick_4\">\n     <g id=\"line2d_4\">\n      <g>\n       <use style=\"stroke:#000000;stroke-width:0.8;\" x=\"241.617614\" xlink:href=\"#m8b34d27718\" y=\"224.64\"/>\n      </g>\n     </g>\n     <g id=\"text_4\">\n      <!-- 0.6 -->\n      <defs>\n       <path d=\"M 33.015625 40.375 \nQ 26.375 40.375 22.484375 35.828125 \nQ 18.609375 31.296875 18.609375 23.390625 \nQ 18.609375 15.53125 22.484375 10.953125 \nQ 26.375 6.390625 33.015625 6.390625 \nQ 39.65625 6.390625 43.53125 10.953125 \nQ 47.40625 15.53125 47.40625 23.390625 \nQ 47.40625 31.296875 43.53125 35.828125 \nQ 39.65625 40.375 33.015625 40.375 \nz\nM 52.59375 71.296875 \nL 52.59375 62.3125 \nQ 48.875 64.0625 45.09375 64.984375 \nQ 41.3125 65.921875 37.59375 65.921875 \nQ 27.828125 65.921875 22.671875 59.328125 \nQ 17.53125 52.734375 16.796875 39.40625 \nQ 19.671875 43.65625 24.015625 45.921875 \nQ 28.375 48.1875 33.59375 48.1875 \nQ 44.578125 48.1875 50.953125 41.515625 \nQ 57.328125 34.859375 57.328125 23.390625 \nQ 57.328125 12.15625 50.6875 5.359375 \nQ 44.046875 -1.421875 33.015625 -1.421875 \nQ 20.359375 -1.421875 13.671875 8.265625 \nQ 6.984375 17.96875 6.984375 36.375 \nQ 6.984375 53.65625 15.1875 63.9375 \nQ 23.390625 74.21875 37.203125 74.21875 \nQ 40.921875 74.21875 44.703125 73.484375 \nQ 48.484375 72.75 52.59375 71.296875 \nz\n\" id=\"DejaVuSans-54\"/>\n      </defs>\n      <g transform=\"translate(233.666051 239.238437)scale(0.1 -0.1)\">\n       <use xlink:href=\"#DejaVuSans-48\"/>\n       <use x=\"63.623047\" xlink:href=\"#DejaVuSans-46\"/>\n       <use x=\"95.410156\" xlink:href=\"#DejaVuSans-54\"/>\n      </g>\n     </g>\n    </g>\n    <g id=\"xtick_5\">\n     <g id=\"line2d_5\">\n      <g>\n       <use style=\"stroke:#000000;stroke-width:0.8;\" x=\"302.490341\" xlink:href=\"#m8b34d27718\" y=\"224.64\"/>\n      </g>\n     </g>\n     <g id=\"text_5\">\n      <!-- 0.8 -->\n      <defs>\n       <path d=\"M 31.78125 34.625 \nQ 24.75 34.625 20.71875 30.859375 \nQ 16.703125 27.09375 16.703125 20.515625 \nQ 16.703125 13.921875 20.71875 10.15625 \nQ 24.75 6.390625 31.78125 6.390625 \nQ 38.8125 6.390625 42.859375 10.171875 \nQ 46.921875 13.96875 46.921875 20.515625 \nQ 46.921875 27.09375 42.890625 30.859375 \nQ 38.875 34.625 31.78125 34.625 \nz\nM 21.921875 38.8125 \nQ 15.578125 40.375 12.03125 44.71875 \nQ 8.5 49.078125 8.5 55.328125 \nQ 8.5 64.0625 14.71875 69.140625 \nQ 20.953125 74.21875 31.78125 74.21875 \nQ 42.671875 74.21875 48.875 69.140625 \nQ 55.078125 64.0625 55.078125 55.328125 \nQ 55.078125 49.078125 51.53125 44.71875 \nQ 48 40.375 41.703125 38.8125 \nQ 48.828125 37.15625 52.796875 32.3125 \nQ 56.78125 27.484375 56.78125 20.515625 \nQ 56.78125 9.90625 50.3125 4.234375 \nQ 43.84375 -1.421875 31.78125 -1.421875 \nQ 19.734375 -1.421875 13.25 4.234375 \nQ 6.78125 9.90625 6.78125 20.515625 \nQ 6.78125 27.484375 10.78125 32.3125 \nQ 14.796875 37.15625 21.921875 38.8125 \nz\nM 18.3125 54.390625 \nQ 18.3125 48.734375 21.84375 45.5625 \nQ 25.390625 42.390625 31.78125 42.390625 \nQ 38.140625 42.390625 41.71875 45.5625 \nQ 45.3125 48.734375 45.3125 54.390625 \nQ 45.3125 60.0625 41.71875 63.234375 \nQ 38.140625 66.40625 31.78125 66.40625 \nQ 25.390625 66.40625 21.84375 63.234375 \nQ 18.3125 60.0625 18.3125 54.390625 \nz\n\" id=\"DejaVuSans-56\"/>\n      </defs>\n      <g transform=\"translate(294.538778 239.238437)scale(0.1 -0.1)\">\n       <use xlink:href=\"#DejaVuSans-48\"/>\n       <use x=\"63.623047\" xlink:href=\"#DejaVuSans-46\"/>\n       <use x=\"95.410156\" xlink:href=\"#DejaVuSans-56\"/>\n      </g>\n     </g>\n    </g>\n    <g id=\"xtick_6\">\n     <g id=\"line2d_6\">\n      <g>\n       <use style=\"stroke:#000000;stroke-width:0.8;\" x=\"363.363068\" xlink:href=\"#m8b34d27718\" y=\"224.64\"/>\n      </g>\n     </g>\n     <g id=\"text_6\">\n      <!-- 1.0 -->\n      <defs>\n       <path d=\"M 12.40625 8.296875 \nL 28.515625 8.296875 \nL 28.515625 63.921875 \nL 10.984375 60.40625 \nL 10.984375 69.390625 \nL 28.421875 72.90625 \nL 38.28125 72.90625 \nL 38.28125 8.296875 \nL 54.390625 8.296875 \nL 54.390625 0 \nL 12.40625 0 \nz\n\" id=\"DejaVuSans-49\"/>\n      </defs>\n      <g transform=\"translate(355.411506 239.238437)scale(0.1 -0.1)\">\n       <use xlink:href=\"#DejaVuSans-49\"/>\n       <use x=\"63.623047\" xlink:href=\"#DejaVuSans-46\"/>\n       <use x=\"95.410156\" xlink:href=\"#DejaVuSans-48\"/>\n      </g>\n     </g>\n    </g>\n    <g id=\"text_7\">\n     <!-- False Positive Rate -->\n     <defs>\n      <path d=\"M 9.8125 72.90625 \nL 51.703125 72.90625 \nL 51.703125 64.59375 \nL 19.671875 64.59375 \nL 19.671875 43.109375 \nL 48.578125 43.109375 \nL 48.578125 34.8125 \nL 19.671875 34.8125 \nL 19.671875 0 \nL 9.8125 0 \nz\n\" id=\"DejaVuSans-70\"/>\n      <path d=\"M 34.28125 27.484375 \nQ 23.390625 27.484375 19.1875 25 \nQ 14.984375 22.515625 14.984375 16.5 \nQ 14.984375 11.71875 18.140625 8.90625 \nQ 21.296875 6.109375 26.703125 6.109375 \nQ 34.1875 6.109375 38.703125 11.40625 \nQ 43.21875 16.703125 43.21875 25.484375 \nL 43.21875 27.484375 \nz\nM 52.203125 31.203125 \nL 52.203125 0 \nL 43.21875 0 \nL 43.21875 8.296875 \nQ 40.140625 3.328125 35.546875 0.953125 \nQ 30.953125 -1.421875 24.3125 -1.421875 \nQ 15.921875 -1.421875 10.953125 3.296875 \nQ 6 8.015625 6 15.921875 \nQ 6 25.140625 12.171875 29.828125 \nQ 18.359375 34.515625 30.609375 34.515625 \nL 43.21875 34.515625 \nL 43.21875 35.40625 \nQ 43.21875 41.609375 39.140625 45 \nQ 35.0625 48.390625 27.6875 48.390625 \nQ 23 48.390625 18.546875 47.265625 \nQ 14.109375 46.140625 10.015625 43.890625 \nL 10.015625 52.203125 \nQ 14.9375 54.109375 19.578125 55.046875 \nQ 24.21875 56 28.609375 56 \nQ 40.484375 56 46.34375 49.84375 \nQ 52.203125 43.703125 52.203125 31.203125 \nz\n\" id=\"DejaVuSans-97\"/>\n      <path d=\"M 9.421875 75.984375 \nL 18.40625 75.984375 \nL 18.40625 0 \nL 9.421875 0 \nz\n\" id=\"DejaVuSans-108\"/>\n      <path d=\"M 44.28125 53.078125 \nL 44.28125 44.578125 \nQ 40.484375 46.53125 36.375 47.5 \nQ 32.28125 48.484375 27.875 48.484375 \nQ 21.1875 48.484375 17.84375 46.4375 \nQ 14.5 44.390625 14.5 40.28125 \nQ 14.5 37.15625 16.890625 35.375 \nQ 19.28125 33.59375 26.515625 31.984375 \nL 29.59375 31.296875 \nQ 39.15625 29.25 43.1875 25.515625 \nQ 47.21875 21.78125 47.21875 15.09375 \nQ 47.21875 7.46875 41.1875 3.015625 \nQ 35.15625 -1.421875 24.609375 -1.421875 \nQ 20.21875 -1.421875 15.453125 -0.5625 \nQ 10.6875 0.296875 5.421875 2 \nL 5.421875 11.28125 \nQ 10.40625 8.6875 15.234375 7.390625 \nQ 20.0625 6.109375 24.8125 6.109375 \nQ 31.15625 6.109375 34.5625 8.28125 \nQ 37.984375 10.453125 37.984375 14.40625 \nQ 37.984375 18.0625 35.515625 20.015625 \nQ 33.0625 21.96875 24.703125 23.78125 \nL 21.578125 24.515625 \nQ 13.234375 26.265625 9.515625 29.90625 \nQ 5.8125 33.546875 5.8125 39.890625 \nQ 5.8125 47.609375 11.28125 51.796875 \nQ 16.75 56 26.8125 56 \nQ 31.78125 56 36.171875 55.265625 \nQ 40.578125 54.546875 44.28125 53.078125 \nz\n\" id=\"DejaVuSans-115\"/>\n      <path d=\"M 56.203125 29.59375 \nL 56.203125 25.203125 \nL 14.890625 25.203125 \nQ 15.484375 15.921875 20.484375 11.0625 \nQ 25.484375 6.203125 34.421875 6.203125 \nQ 39.59375 6.203125 44.453125 7.46875 \nQ 49.3125 8.734375 54.109375 11.28125 \nL 54.109375 2.78125 \nQ 49.265625 0.734375 44.1875 -0.34375 \nQ 39.109375 -1.421875 33.890625 -1.421875 \nQ 20.796875 -1.421875 13.15625 6.1875 \nQ 5.515625 13.8125 5.515625 26.8125 \nQ 5.515625 40.234375 12.765625 48.109375 \nQ 20.015625 56 32.328125 56 \nQ 43.359375 56 49.78125 48.890625 \nQ 56.203125 41.796875 56.203125 29.59375 \nz\nM 47.21875 32.234375 \nQ 47.125 39.59375 43.09375 43.984375 \nQ 39.0625 48.390625 32.421875 48.390625 \nQ 24.90625 48.390625 20.390625 44.140625 \nQ 15.875 39.890625 15.1875 32.171875 \nz\n\" id=\"DejaVuSans-101\"/>\n      <path id=\"DejaVuSans-32\"/>\n      <path d=\"M 19.671875 64.796875 \nL 19.671875 37.40625 \nL 32.078125 37.40625 \nQ 38.96875 37.40625 42.71875 40.96875 \nQ 46.484375 44.53125 46.484375 51.125 \nQ 46.484375 57.671875 42.71875 61.234375 \nQ 38.96875 64.796875 32.078125 64.796875 \nz\nM 9.8125 72.90625 \nL 32.078125 72.90625 \nQ 44.34375 72.90625 50.609375 67.359375 \nQ 56.890625 61.8125 56.890625 51.125 \nQ 56.890625 40.328125 50.609375 34.8125 \nQ 44.34375 29.296875 32.078125 29.296875 \nL 19.671875 29.296875 \nL 19.671875 0 \nL 9.8125 0 \nz\n\" id=\"DejaVuSans-80\"/>\n      <path d=\"M 30.609375 48.390625 \nQ 23.390625 48.390625 19.1875 42.75 \nQ 14.984375 37.109375 14.984375 27.296875 \nQ 14.984375 17.484375 19.15625 11.84375 \nQ 23.34375 6.203125 30.609375 6.203125 \nQ 37.796875 6.203125 41.984375 11.859375 \nQ 46.1875 17.53125 46.1875 27.296875 \nQ 46.1875 37.015625 41.984375 42.703125 \nQ 37.796875 48.390625 30.609375 48.390625 \nz\nM 30.609375 56 \nQ 42.328125 56 49.015625 48.375 \nQ 55.71875 40.765625 55.71875 27.296875 \nQ 55.71875 13.875 49.015625 6.21875 \nQ 42.328125 -1.421875 30.609375 -1.421875 \nQ 18.84375 -1.421875 12.171875 6.21875 \nQ 5.515625 13.875 5.515625 27.296875 \nQ 5.515625 40.765625 12.171875 48.375 \nQ 18.84375 56 30.609375 56 \nz\n\" id=\"DejaVuSans-111\"/>\n      <path d=\"M 9.421875 54.6875 \nL 18.40625 54.6875 \nL 18.40625 0 \nL 9.421875 0 \nz\nM 9.421875 75.984375 \nL 18.40625 75.984375 \nL 18.40625 64.59375 \nL 9.421875 64.59375 \nz\n\" id=\"DejaVuSans-105\"/>\n      <path d=\"M 18.3125 70.21875 \nL 18.3125 54.6875 \nL 36.8125 54.6875 \nL 36.8125 47.703125 \nL 18.3125 47.703125 \nL 18.3125 18.015625 \nQ 18.3125 11.328125 20.140625 9.421875 \nQ 21.96875 7.515625 27.59375 7.515625 \nL 36.8125 7.515625 \nL 36.8125 0 \nL 27.59375 0 \nQ 17.1875 0 13.234375 3.875 \nQ 9.28125 7.765625 9.28125 18.015625 \nL 9.28125 47.703125 \nL 2.6875 47.703125 \nL 2.6875 54.6875 \nL 9.28125 54.6875 \nL 9.28125 70.21875 \nz\n\" id=\"DejaVuSans-116\"/>\n      <path d=\"M 2.984375 54.6875 \nL 12.5 54.6875 \nL 29.59375 8.796875 \nL 46.6875 54.6875 \nL 56.203125 54.6875 \nL 35.6875 0 \nL 23.484375 0 \nz\n\" id=\"DejaVuSans-118\"/>\n      <path d=\"M 44.390625 34.1875 \nQ 47.5625 33.109375 50.5625 29.59375 \nQ 53.5625 26.078125 56.59375 19.921875 \nL 66.609375 0 \nL 56 0 \nL 46.6875 18.703125 \nQ 43.0625 26.03125 39.671875 28.421875 \nQ 36.28125 30.8125 30.421875 30.8125 \nL 19.671875 30.8125 \nL 19.671875 0 \nL 9.8125 0 \nL 9.8125 72.90625 \nL 32.078125 72.90625 \nQ 44.578125 72.90625 50.734375 67.671875 \nQ 56.890625 62.453125 56.890625 51.90625 \nQ 56.890625 45.015625 53.6875 40.46875 \nQ 50.484375 35.9375 44.390625 34.1875 \nz\nM 19.671875 64.796875 \nL 19.671875 38.921875 \nL 32.078125 38.921875 \nQ 39.203125 38.921875 42.84375 42.21875 \nQ 46.484375 45.515625 46.484375 51.90625 \nQ 46.484375 58.296875 42.84375 61.546875 \nQ 39.203125 64.796875 32.078125 64.796875 \nz\n\" id=\"DejaVuSans-82\"/>\n     </defs>\n     <g transform=\"translate(164.714844 252.916562)scale(0.1 -0.1)\">\n      <use xlink:href=\"#DejaVuSans-70\"/>\n      <use x=\"48.394531\" xlink:href=\"#DejaVuSans-97\"/>\n      <use x=\"109.673828\" xlink:href=\"#DejaVuSans-108\"/>\n      <use x=\"137.457031\" xlink:href=\"#DejaVuSans-115\"/>\n      <use x=\"189.556641\" xlink:href=\"#DejaVuSans-101\"/>\n      <use x=\"251.080078\" xlink:href=\"#DejaVuSans-32\"/>\n      <use x=\"282.867188\" xlink:href=\"#DejaVuSans-80\"/>\n      <use x=\"339.544922\" xlink:href=\"#DejaVuSans-111\"/>\n      <use x=\"400.726562\" xlink:href=\"#DejaVuSans-115\"/>\n      <use x=\"452.826172\" xlink:href=\"#DejaVuSans-105\"/>\n      <use x=\"480.609375\" xlink:href=\"#DejaVuSans-116\"/>\n      <use x=\"519.818359\" xlink:href=\"#DejaVuSans-105\"/>\n      <use x=\"547.601562\" xlink:href=\"#DejaVuSans-118\"/>\n      <use x=\"606.78125\" xlink:href=\"#DejaVuSans-101\"/>\n      <use x=\"668.304688\" xlink:href=\"#DejaVuSans-32\"/>\n      <use x=\"700.091797\" xlink:href=\"#DejaVuSans-82\"/>\n      <use x=\"767.324219\" xlink:href=\"#DejaVuSans-97\"/>\n      <use x=\"828.603516\" xlink:href=\"#DejaVuSans-116\"/>\n      <use x=\"867.8125\" xlink:href=\"#DejaVuSans-101\"/>\n     </g>\n    </g>\n   </g>\n   <g id=\"matplotlib.axis_2\">\n    <g id=\"ytick_1\">\n     <g id=\"line2d_7\">\n      <defs>\n       <path d=\"M 0 0 \nL -3.5 0 \n\" id=\"m6541e9a0f6\" style=\"stroke:#000000;stroke-width:0.8;\"/>\n      </defs>\n      <g>\n       <use style=\"stroke:#000000;stroke-width:0.8;\" x=\"43.78125\" xlink:href=\"#m6541e9a0f6\" y=\"214.756364\"/>\n      </g>\n     </g>\n     <g id=\"text_8\">\n      <!-- 0.0 -->\n      <g transform=\"translate(20.878125 218.555582)scale(0.1 -0.1)\">\n       <use xlink:href=\"#DejaVuSans-48\"/>\n       <use x=\"63.623047\" xlink:href=\"#DejaVuSans-46\"/>\n       <use x=\"95.410156\" xlink:href=\"#DejaVuSans-48\"/>\n      </g>\n     </g>\n    </g>\n    <g id=\"ytick_2\">\n     <g id=\"line2d_8\">\n      <g>\n       <use style=\"stroke:#000000;stroke-width:0.8;\" x=\"43.78125\" xlink:href=\"#m6541e9a0f6\" y=\"175.221818\"/>\n      </g>\n     </g>\n     <g id=\"text_9\">\n      <!-- 0.2 -->\n      <g transform=\"translate(20.878125 179.021037)scale(0.1 -0.1)\">\n       <use xlink:href=\"#DejaVuSans-48\"/>\n       <use x=\"63.623047\" xlink:href=\"#DejaVuSans-46\"/>\n       <use x=\"95.410156\" xlink:href=\"#DejaVuSans-50\"/>\n      </g>\n     </g>\n    </g>\n    <g id=\"ytick_3\">\n     <g id=\"line2d_9\">\n      <g>\n       <use style=\"stroke:#000000;stroke-width:0.8;\" x=\"43.78125\" xlink:href=\"#m6541e9a0f6\" y=\"135.687273\"/>\n      </g>\n     </g>\n     <g id=\"text_10\">\n      <!-- 0.4 -->\n      <g transform=\"translate(20.878125 139.486491)scale(0.1 -0.1)\">\n       <use xlink:href=\"#DejaVuSans-48\"/>\n       <use x=\"63.623047\" xlink:href=\"#DejaVuSans-46\"/>\n       <use x=\"95.410156\" xlink:href=\"#DejaVuSans-52\"/>\n      </g>\n     </g>\n    </g>\n    <g id=\"ytick_4\">\n     <g id=\"line2d_10\">\n      <g>\n       <use style=\"stroke:#000000;stroke-width:0.8;\" x=\"43.78125\" xlink:href=\"#m6541e9a0f6\" y=\"96.152727\"/>\n      </g>\n     </g>\n     <g id=\"text_11\">\n      <!-- 0.6 -->\n      <g transform=\"translate(20.878125 99.951946)scale(0.1 -0.1)\">\n       <use xlink:href=\"#DejaVuSans-48\"/>\n       <use x=\"63.623047\" xlink:href=\"#DejaVuSans-46\"/>\n       <use x=\"95.410156\" xlink:href=\"#DejaVuSans-54\"/>\n      </g>\n     </g>\n    </g>\n    <g id=\"ytick_5\">\n     <g id=\"line2d_11\">\n      <g>\n       <use style=\"stroke:#000000;stroke-width:0.8;\" x=\"43.78125\" xlink:href=\"#m6541e9a0f6\" y=\"56.618182\"/>\n      </g>\n     </g>\n     <g id=\"text_12\">\n      <!-- 0.8 -->\n      <g transform=\"translate(20.878125 60.417401)scale(0.1 -0.1)\">\n       <use xlink:href=\"#DejaVuSans-48\"/>\n       <use x=\"63.623047\" xlink:href=\"#DejaVuSans-46\"/>\n       <use x=\"95.410156\" xlink:href=\"#DejaVuSans-56\"/>\n      </g>\n     </g>\n    </g>\n    <g id=\"ytick_6\">\n     <g id=\"line2d_12\">\n      <g>\n       <use style=\"stroke:#000000;stroke-width:0.8;\" x=\"43.78125\" xlink:href=\"#m6541e9a0f6\" y=\"17.083636\"/>\n      </g>\n     </g>\n     <g id=\"text_13\">\n      <!-- 1.0 -->\n      <g transform=\"translate(20.878125 20.882855)scale(0.1 -0.1)\">\n       <use xlink:href=\"#DejaVuSans-49\"/>\n       <use x=\"63.623047\" xlink:href=\"#DejaVuSans-46\"/>\n       <use x=\"95.410156\" xlink:href=\"#DejaVuSans-48\"/>\n      </g>\n     </g>\n    </g>\n    <g id=\"text_14\">\n     <!-- True Positive Rate -->\n     <defs>\n      <path d=\"M -0.296875 72.90625 \nL 61.375 72.90625 \nL 61.375 64.59375 \nL 35.5 64.59375 \nL 35.5 0 \nL 25.59375 0 \nL 25.59375 64.59375 \nL -0.296875 64.59375 \nz\n\" id=\"DejaVuSans-84\"/>\n      <path d=\"M 41.109375 46.296875 \nQ 39.59375 47.171875 37.8125 47.578125 \nQ 36.03125 48 33.890625 48 \nQ 26.265625 48 22.1875 43.046875 \nQ 18.109375 38.09375 18.109375 28.8125 \nL 18.109375 0 \nL 9.078125 0 \nL 9.078125 54.6875 \nL 18.109375 54.6875 \nL 18.109375 46.1875 \nQ 20.953125 51.171875 25.484375 53.578125 \nQ 30.03125 56 36.53125 56 \nQ 37.453125 56 38.578125 55.875 \nQ 39.703125 55.765625 41.0625 55.515625 \nz\n\" id=\"DejaVuSans-114\"/>\n      <path d=\"M 8.5 21.578125 \nL 8.5 54.6875 \nL 17.484375 54.6875 \nL 17.484375 21.921875 \nQ 17.484375 14.15625 20.5 10.265625 \nQ 23.53125 6.390625 29.59375 6.390625 \nQ 36.859375 6.390625 41.078125 11.03125 \nQ 45.3125 15.671875 45.3125 23.6875 \nL 45.3125 54.6875 \nL 54.296875 54.6875 \nL 54.296875 0 \nL 45.3125 0 \nL 45.3125 8.40625 \nQ 42.046875 3.421875 37.71875 1 \nQ 33.40625 -1.421875 27.6875 -1.421875 \nQ 18.265625 -1.421875 13.375 4.4375 \nQ 8.5 10.296875 8.5 21.578125 \nz\nM 31.109375 56 \nz\n\" id=\"DejaVuSans-117\"/>\n     </defs>\n     <g transform=\"translate(14.798438 160.449687)rotate(-90)scale(0.1 -0.1)\">\n      <use xlink:href=\"#DejaVuSans-84\"/>\n      <use x=\"46.333984\" xlink:href=\"#DejaVuSans-114\"/>\n      <use x=\"87.447266\" xlink:href=\"#DejaVuSans-117\"/>\n      <use x=\"150.826172\" xlink:href=\"#DejaVuSans-101\"/>\n      <use x=\"212.349609\" xlink:href=\"#DejaVuSans-32\"/>\n      <use x=\"244.136719\" xlink:href=\"#DejaVuSans-80\"/>\n      <use x=\"300.814453\" xlink:href=\"#DejaVuSans-111\"/>\n      <use x=\"361.996094\" xlink:href=\"#DejaVuSans-115\"/>\n      <use x=\"414.095703\" xlink:href=\"#DejaVuSans-105\"/>\n      <use x=\"441.878906\" xlink:href=\"#DejaVuSans-116\"/>\n      <use x=\"481.087891\" xlink:href=\"#DejaVuSans-105\"/>\n      <use x=\"508.871094\" xlink:href=\"#DejaVuSans-118\"/>\n      <use x=\"568.050781\" xlink:href=\"#DejaVuSans-101\"/>\n      <use x=\"629.574219\" xlink:href=\"#DejaVuSans-32\"/>\n      <use x=\"661.361328\" xlink:href=\"#DejaVuSans-82\"/>\n      <use x=\"728.59375\" xlink:href=\"#DejaVuSans-97\"/>\n      <use x=\"789.873047\" xlink:href=\"#DejaVuSans-116\"/>\n      <use x=\"829.082031\" xlink:href=\"#DejaVuSans-101\"/>\n     </g>\n    </g>\n   </g>\n   <g id=\"line2d_13\">\n    <path clip-path=\"url(#p3cdd752f35)\" d=\"M 58.999432 214.756364 \nL 363.363068 17.083636 \n\" style=\"fill:none;stroke:#1f77b4;stroke-dasharray:5.55,2.4;stroke-dashoffset:0;stroke-width:1.5;\"/>\n   </g>\n   <g id=\"line2d_14\">\n    <path clip-path=\"url(#p3cdd752f35)\" d=\"M 58.999432 214.756364 \nL 237.023446 22.955104 \nL 363.363068 17.083636 \n\" style=\"fill:none;stroke:#ff7f0e;stroke-linecap:square;stroke-width:1.5;\"/>\n    <defs>\n     <path d=\"M 0 1.5 \nC 0.397805 1.5 0.77937 1.341951 1.06066 1.06066 \nC 1.341951 0.77937 1.5 0.397805 1.5 0 \nC 1.5 -0.397805 1.341951 -0.77937 1.06066 -1.06066 \nC 0.77937 -1.341951 0.397805 -1.5 0 -1.5 \nC -0.397805 -1.5 -0.77937 -1.341951 -1.06066 -1.06066 \nC -1.341951 -0.77937 -1.5 -0.397805 -1.5 0 \nC -1.5 0.397805 -1.341951 0.77937 -1.06066 1.06066 \nC -0.77937 1.341951 -0.397805 1.5 0 1.5 \nz\n\" id=\"me0740b3508\" style=\"stroke:#ff7f0e;\"/>\n    </defs>\n    <g clip-path=\"url(#p3cdd752f35)\">\n     <use style=\"fill:#ff7f0e;stroke:#ff7f0e;\" x=\"58.999432\" xlink:href=\"#me0740b3508\" y=\"214.756364\"/>\n     <use style=\"fill:#ff7f0e;stroke:#ff7f0e;\" x=\"237.023446\" xlink:href=\"#me0740b3508\" y=\"22.955104\"/>\n     <use style=\"fill:#ff7f0e;stroke:#ff7f0e;\" x=\"363.363068\" xlink:href=\"#me0740b3508\" y=\"17.083636\"/>\n    </g>\n   </g>\n   <g id=\"patch_3\">\n    <path d=\"M 43.78125 224.64 \nL 43.78125 7.2 \n\" style=\"fill:none;stroke:#000000;stroke-linecap:square;stroke-linejoin:miter;stroke-width:0.8;\"/>\n   </g>\n   <g id=\"patch_4\">\n    <path d=\"M 378.58125 224.64 \nL 378.58125 7.2 \n\" style=\"fill:none;stroke:#000000;stroke-linecap:square;stroke-linejoin:miter;stroke-width:0.8;\"/>\n   </g>\n   <g id=\"patch_5\">\n    <path d=\"M 43.78125 224.64 \nL 378.58125 224.64 \n\" style=\"fill:none;stroke:#000000;stroke-linecap:square;stroke-linejoin:miter;stroke-width:0.8;\"/>\n   </g>\n   <g id=\"patch_6\">\n    <path d=\"M 43.78125 7.2 \nL 378.58125 7.2 \n\" style=\"fill:none;stroke:#000000;stroke-linecap:square;stroke-linejoin:miter;stroke-width:0.8;\"/>\n   </g>\n   <g id=\"legend_1\">\n    <g id=\"patch_7\">\n     <path d=\"M 50.78125 44.55625 \nL 120.032813 44.55625 \nQ 122.032813 44.55625 122.032813 42.55625 \nL 122.032813 14.2 \nQ 122.032813 12.2 120.032813 12.2 \nL 50.78125 12.2 \nQ 48.78125 12.2 48.78125 14.2 \nL 48.78125 42.55625 \nQ 48.78125 44.55625 50.78125 44.55625 \nz\n\" style=\"fill:#ffffff;opacity:0.8;stroke:#cccccc;stroke-linejoin:miter;\"/>\n    </g>\n    <g id=\"line2d_15\">\n     <path d=\"M 52.78125 20.298437 \nL 72.78125 20.298437 \n\" style=\"fill:none;stroke:#1f77b4;stroke-dasharray:5.55,2.4;stroke-dashoffset:0;stroke-width:1.5;\"/>\n    </g>\n    <g id=\"line2d_16\"/>\n    <g id=\"text_15\">\n     <!-- No Skill -->\n     <defs>\n      <path d=\"M 9.8125 72.90625 \nL 23.09375 72.90625 \nL 55.421875 11.921875 \nL 55.421875 72.90625 \nL 64.984375 72.90625 \nL 64.984375 0 \nL 51.703125 0 \nL 19.390625 60.984375 \nL 19.390625 0 \nL 9.8125 0 \nz\n\" id=\"DejaVuSans-78\"/>\n      <path d=\"M 53.515625 70.515625 \nL 53.515625 60.890625 \nQ 47.90625 63.578125 42.921875 64.890625 \nQ 37.9375 66.21875 33.296875 66.21875 \nQ 25.25 66.21875 20.875 63.09375 \nQ 16.5 59.96875 16.5 54.203125 \nQ 16.5 49.359375 19.40625 46.890625 \nQ 22.3125 44.4375 30.421875 42.921875 \nL 36.375 41.703125 \nQ 47.40625 39.59375 52.65625 34.296875 \nQ 57.90625 29 57.90625 20.125 \nQ 57.90625 9.515625 50.796875 4.046875 \nQ 43.703125 -1.421875 29.984375 -1.421875 \nQ 24.8125 -1.421875 18.96875 -0.25 \nQ 13.140625 0.921875 6.890625 3.21875 \nL 6.890625 13.375 \nQ 12.890625 10.015625 18.65625 8.296875 \nQ 24.421875 6.59375 29.984375 6.59375 \nQ 38.421875 6.59375 43.015625 9.90625 \nQ 47.609375 13.234375 47.609375 19.390625 \nQ 47.609375 24.75 44.3125 27.78125 \nQ 41.015625 30.8125 33.5 32.328125 \nL 27.484375 33.5 \nQ 16.453125 35.6875 11.515625 40.375 \nQ 6.59375 45.0625 6.59375 53.421875 \nQ 6.59375 63.09375 13.40625 68.65625 \nQ 20.21875 74.21875 32.171875 74.21875 \nQ 37.3125 74.21875 42.625 73.28125 \nQ 47.953125 72.359375 53.515625 70.515625 \nz\n\" id=\"DejaVuSans-83\"/>\n      <path d=\"M 9.078125 75.984375 \nL 18.109375 75.984375 \nL 18.109375 31.109375 \nL 44.921875 54.6875 \nL 56.390625 54.6875 \nL 27.390625 29.109375 \nL 57.625 0 \nL 45.90625 0 \nL 18.109375 26.703125 \nL 18.109375 0 \nL 9.078125 0 \nz\n\" id=\"DejaVuSans-107\"/>\n     </defs>\n     <g transform=\"translate(80.78125 23.798437)scale(0.1 -0.1)\">\n      <use xlink:href=\"#DejaVuSans-78\"/>\n      <use x=\"74.804688\" xlink:href=\"#DejaVuSans-111\"/>\n      <use x=\"135.986328\" xlink:href=\"#DejaVuSans-32\"/>\n      <use x=\"167.773438\" xlink:href=\"#DejaVuSans-83\"/>\n      <use x=\"231.25\" xlink:href=\"#DejaVuSans-107\"/>\n      <use x=\"289.160156\" xlink:href=\"#DejaVuSans-105\"/>\n      <use x=\"316.943359\" xlink:href=\"#DejaVuSans-108\"/>\n      <use x=\"344.726562\" xlink:href=\"#DejaVuSans-108\"/>\n     </g>\n    </g>\n    <g id=\"line2d_17\">\n     <path d=\"M 52.78125 34.976562 \nL 72.78125 34.976562 \n\" style=\"fill:none;stroke:#ff7f0e;stroke-linecap:square;stroke-width:1.5;\"/>\n    </g>\n    <g id=\"line2d_18\">\n     <g>\n      <use style=\"fill:#ff7f0e;stroke:#ff7f0e;\" x=\"62.78125\" xlink:href=\"#me0740b3508\" y=\"34.976562\"/>\n     </g>\n    </g>\n    <g id=\"text_16\">\n     <!-- SVM -->\n     <defs>\n      <path d=\"M 28.609375 0 \nL 0.78125 72.90625 \nL 11.078125 72.90625 \nL 34.1875 11.53125 \nL 57.328125 72.90625 \nL 67.578125 72.90625 \nL 39.796875 0 \nz\n\" id=\"DejaVuSans-86\"/>\n      <path d=\"M 9.8125 72.90625 \nL 24.515625 72.90625 \nL 43.109375 23.296875 \nL 61.8125 72.90625 \nL 76.515625 72.90625 \nL 76.515625 0 \nL 66.890625 0 \nL 66.890625 64.015625 \nL 48.09375 14.015625 \nL 38.1875 14.015625 \nL 19.390625 64.015625 \nL 19.390625 0 \nL 9.8125 0 \nz\n\" id=\"DejaVuSans-77\"/>\n     </defs>\n     <g transform=\"translate(80.78125 38.476562)scale(0.1 -0.1)\">\n      <use xlink:href=\"#DejaVuSans-83\"/>\n      <use x=\"63.476562\" xlink:href=\"#DejaVuSans-86\"/>\n      <use x=\"131.884766\" xlink:href=\"#DejaVuSans-77\"/>\n     </g>\n    </g>\n   </g>\n  </g>\n </g>\n <defs>\n  <clipPath id=\"p3cdd752f35\">\n   <rect height=\"217.44\" width=\"334.8\" x=\"43.78125\" y=\"7.2\"/>\n  </clipPath>\n </defs>\n</svg>\n",
      "image/png": "[encoded data removed]"
     },
     "metadata": {
      "needs_background": "light"
     }
    }
   ],
   "source": [
    "plt.plot(ns_fpr, ns_tpr, linestyle='--', label='No Skill')\n",
    "plt.plot(lr_fpr, lr_tpr, marker='.', label='SVM')\n",
    "plt.xlabel('False Positive Rate')\n",
    "plt.ylabel('True Positive Rate')\n",
    "plt.legend()\n",
    "plt.show()"
   ]
  },
  {
   "cell_type": "code",
   "execution_count": 29,
   "metadata": {
    "tags": []
   },
   "outputs": [
    {
     "output_type": "stream",
     "name": "stdout",
     "text": "done...!!!\n"
    }
   ],
   "source": [
    "\n",
    "import pickle\n",
    "\n",
    "with open('Models/svm.pkl','wb') as f:\n",
    "    pickle.dump(svm,f)\n",
    "    print('done...!!!')"
   ]
  }
 ],
 "metadata": {
  "kernelspec": {
   "display_name": "portfolio",
   "language": "python",
   "name": "portfolio"
  },
  "language_info": {
   "codemirror_mode": {
    "name": "ipython",
    "version": 3
   },
   "file_extension": ".py",
   "mimetype": "text/x-python",
   "name": "python",
   "nbconvert_exporter": "python",
   "pygments_lexer": "ipython3",
   "version": "3.7.4-final"
  }
 },
 "nbformat": 4,
 "nbformat_minor": 2
}